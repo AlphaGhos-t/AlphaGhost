{
 "cells": [
  {
   "cell_type": "code",
   "execution_count": 1,
   "id": "86433180-fba3-4112-ab9e-fcf6d34a6773",
   "metadata": {
    "execution": {
     "iopub.execute_input": "2025-08-28T05:55:06.321429Z",
     "iopub.status.busy": "2025-08-28T05:55:06.320811Z",
     "iopub.status.idle": "2025-08-28T05:55:09.219979Z",
     "shell.execute_reply": "2025-08-28T05:55:09.219007Z",
     "shell.execute_reply.started": "2025-08-28T05:55:06.321382Z"
    }
   },
   "outputs": [],
   "source": [
    "import pandas as pd\n",
    "import matplotlib.pyplot as plt"
   ]
  },
  {
   "cell_type": "code",
   "execution_count": 2,
   "id": "10e9fa9d",
   "metadata": {
    "execution": {
     "iopub.execute_input": "2025-08-28T05:55:09.221871Z",
     "iopub.status.busy": "2025-08-28T05:55:09.221362Z",
     "iopub.status.idle": "2025-08-28T05:55:10.827407Z",
     "shell.execute_reply": "2025-08-28T05:55:10.825248Z",
     "shell.execute_reply.started": "2025-08-28T05:55:09.221836Z"
    }
   },
   "outputs": [
    {
     "data": {
      "text/html": [
       "<div>\n",
       "<style scoped>\n",
       "    .dataframe tbody tr th:only-of-type {\n",
       "        vertical-align: middle;\n",
       "    }\n",
       "\n",
       "    .dataframe tbody tr th {\n",
       "        vertical-align: top;\n",
       "    }\n",
       "\n",
       "    .dataframe thead th {\n",
       "        text-align: right;\n",
       "    }\n",
       "</style>\n",
       "<table border=\"1\" class=\"dataframe\">\n",
       "  <thead>\n",
       "    <tr style=\"text-align: right;\">\n",
       "      <th></th>\n",
       "      <th>Invoice</th>\n",
       "      <th>StockCode</th>\n",
       "      <th>Description</th>\n",
       "      <th>Quantity</th>\n",
       "      <th>InvoiceDate</th>\n",
       "      <th>Price</th>\n",
       "      <th>Customer ID</th>\n",
       "      <th>Country</th>\n",
       "    </tr>\n",
       "  </thead>\n",
       "  <tbody>\n",
       "    <tr>\n",
       "      <th>0</th>\n",
       "      <td>489434</td>\n",
       "      <td>85048</td>\n",
       "      <td>15CM CHRISTMAS GLASS BALL 20 LIGHTS</td>\n",
       "      <td>12</td>\n",
       "      <td>2009-12-01 07:45:00</td>\n",
       "      <td>6.95</td>\n",
       "      <td>13085.0</td>\n",
       "      <td>United Kingdom</td>\n",
       "    </tr>\n",
       "    <tr>\n",
       "      <th>1</th>\n",
       "      <td>489434</td>\n",
       "      <td>79323P</td>\n",
       "      <td>PINK CHERRY LIGHTS</td>\n",
       "      <td>12</td>\n",
       "      <td>2009-12-01 07:45:00</td>\n",
       "      <td>6.75</td>\n",
       "      <td>13085.0</td>\n",
       "      <td>United Kingdom</td>\n",
       "    </tr>\n",
       "    <tr>\n",
       "      <th>2</th>\n",
       "      <td>489434</td>\n",
       "      <td>79323W</td>\n",
       "      <td>WHITE CHERRY LIGHTS</td>\n",
       "      <td>12</td>\n",
       "      <td>2009-12-01 07:45:00</td>\n",
       "      <td>6.75</td>\n",
       "      <td>13085.0</td>\n",
       "      <td>United Kingdom</td>\n",
       "    </tr>\n",
       "    <tr>\n",
       "      <th>3</th>\n",
       "      <td>489434</td>\n",
       "      <td>22041</td>\n",
       "      <td>RECORD FRAME 7\" SINGLE SIZE</td>\n",
       "      <td>48</td>\n",
       "      <td>2009-12-01 07:45:00</td>\n",
       "      <td>2.10</td>\n",
       "      <td>13085.0</td>\n",
       "      <td>United Kingdom</td>\n",
       "    </tr>\n",
       "    <tr>\n",
       "      <th>4</th>\n",
       "      <td>489434</td>\n",
       "      <td>21232</td>\n",
       "      <td>STRAWBERRY CERAMIC TRINKET BOX</td>\n",
       "      <td>24</td>\n",
       "      <td>2009-12-01 07:45:00</td>\n",
       "      <td>1.25</td>\n",
       "      <td>13085.0</td>\n",
       "      <td>United Kingdom</td>\n",
       "    </tr>\n",
       "  </tbody>\n",
       "</table>\n",
       "</div>"
      ],
      "text/plain": [
       "  Invoice StockCode                          Description  Quantity  \\\n",
       "0  489434     85048  15CM CHRISTMAS GLASS BALL 20 LIGHTS        12   \n",
       "1  489434    79323P                   PINK CHERRY LIGHTS        12   \n",
       "2  489434    79323W                  WHITE CHERRY LIGHTS        12   \n",
       "3  489434     22041         RECORD FRAME 7\" SINGLE SIZE         48   \n",
       "4  489434     21232       STRAWBERRY CERAMIC TRINKET BOX        24   \n",
       "\n",
       "           InvoiceDate  Price  Customer ID         Country  \n",
       "0  2009-12-01 07:45:00   6.95      13085.0  United Kingdom  \n",
       "1  2009-12-01 07:45:00   6.75      13085.0  United Kingdom  \n",
       "2  2009-12-01 07:45:00   6.75      13085.0  United Kingdom  \n",
       "3  2009-12-01 07:45:00   2.10      13085.0  United Kingdom  \n",
       "4  2009-12-01 07:45:00   1.25      13085.0  United Kingdom  "
      ]
     },
     "execution_count": 2,
     "metadata": {},
     "output_type": "execute_result"
    }
   ],
   "source": [
    "df = pd.read_csv(\"online_retail_II.csv\")\n",
    "df.head()"
   ]
  },
  {
   "cell_type": "code",
   "execution_count": 3,
   "id": "3b5fb470",
   "metadata": {
    "execution": {
     "iopub.execute_input": "2025-08-28T05:55:10.830701Z",
     "iopub.status.busy": "2025-08-28T05:55:10.829679Z",
     "iopub.status.idle": "2025-08-28T05:55:10.843279Z",
     "shell.execute_reply": "2025-08-28T05:55:10.841190Z",
     "shell.execute_reply.started": "2025-08-28T05:55:10.830628Z"
    }
   },
   "outputs": [
    {
     "data": {
      "text/plain": [
       "(1067371, 8)"
      ]
     },
     "execution_count": 3,
     "metadata": {},
     "output_type": "execute_result"
    }
   ],
   "source": [
    "df.shape"
   ]
  },
  {
   "cell_type": "code",
   "execution_count": 4,
   "id": "2bc5473a",
   "metadata": {
    "execution": {
     "iopub.execute_input": "2025-08-28T05:55:10.847547Z",
     "iopub.status.busy": "2025-08-28T05:55:10.846351Z",
     "iopub.status.idle": "2025-08-28T05:55:11.136709Z",
     "shell.execute_reply": "2025-08-28T05:55:11.134733Z",
     "shell.execute_reply.started": "2025-08-28T05:55:10.847441Z"
    }
   },
   "outputs": [
    {
     "data": {
      "text/plain": [
       "Invoice             0\n",
       "StockCode           0\n",
       "Description      4382\n",
       "Quantity            0\n",
       "InvoiceDate         0\n",
       "Price               0\n",
       "Customer ID    243007\n",
       "Country             0\n",
       "dtype: int64"
      ]
     },
     "execution_count": 4,
     "metadata": {},
     "output_type": "execute_result"
    }
   ],
   "source": [
    "#To check missing values\n",
    "df.isnull().sum()"
   ]
  },
  {
   "cell_type": "code",
   "execution_count": 7,
   "id": "0f4d2fe7",
   "metadata": {
    "execution": {
     "iopub.execute_input": "2025-08-28T06:26:48.522749Z",
     "iopub.status.busy": "2025-08-28T06:26:48.521678Z",
     "iopub.status.idle": "2025-08-28T06:26:48.616408Z",
     "shell.execute_reply": "2025-08-28T06:26:48.614546Z",
     "shell.execute_reply.started": "2025-08-28T06:26:48.522672Z"
    }
   },
   "outputs": [
    {
     "ename": "KeyError",
     "evalue": "'Customer ID'",
     "output_type": "error",
     "traceback": [
      "\u001b[1;31m---------------------------------------------------------------------------\u001b[0m",
      "\u001b[1;31mKeyError\u001b[0m                                  Traceback (most recent call last)",
      "Cell \u001b[1;32mIn[7], line 1\u001b[0m\n\u001b[1;32m----> 1\u001b[0m df[\u001b[38;5;124m\"\u001b[39m\u001b[38;5;124mCustomer ID\u001b[39m\u001b[38;5;124m\"\u001b[39m] \u001b[38;5;241m=\u001b[39m df[\u001b[38;5;124m\"\u001b[39m\u001b[38;5;124mCustomer ID\u001b[39m\u001b[38;5;124m\"\u001b[39m]\u001b[38;5;241m.\u001b[39mreplace(\u001b[38;5;124m'\u001b[39m\u001b[38;5;124m'\u001b[39m, \u001b[38;5;124m\"\u001b[39m\u001b[38;5;124mUnknown\u001b[39m\u001b[38;5;124m\"\u001b[39m)\u001b[38;5;241m.\u001b[39mfillna(\u001b[38;5;124m\"\u001b[39m\u001b[38;5;124mUnknown\u001b[39m\u001b[38;5;124m\"\u001b[39m)\n\u001b[0;32m      2\u001b[0m df[\u001b[38;5;124m\"\u001b[39m\u001b[38;5;124mDescription\u001b[39m\u001b[38;5;124m\"\u001b[39m] \u001b[38;5;241m=\u001b[39m df[\u001b[38;5;124m\"\u001b[39m\u001b[38;5;124mDescription\u001b[39m\u001b[38;5;124m\"\u001b[39m]\u001b[38;5;241m.\u001b[39mreplace(\u001b[38;5;124m'\u001b[39m\u001b[38;5;124m'\u001b[39m, \u001b[38;5;124m\"\u001b[39m\u001b[38;5;124mUnknown\u001b[39m\u001b[38;5;124m\"\u001b[39m)\u001b[38;5;241m.\u001b[39mfillna(\u001b[38;5;124m\"\u001b[39m\u001b[38;5;124mUnknown\u001b[39m\u001b[38;5;124m\"\u001b[39m)\n",
      "File \u001b[1;32m~\\anaconda3\\Lib\\site-packages\\pandas\\core\\series.py:1121\u001b[0m, in \u001b[0;36mSeries.__getitem__\u001b[1;34m(self, key)\u001b[0m\n\u001b[0;32m   1118\u001b[0m     \u001b[38;5;28;01mreturn\u001b[39;00m \u001b[38;5;28mself\u001b[39m\u001b[38;5;241m.\u001b[39m_values[key]\n\u001b[0;32m   1120\u001b[0m \u001b[38;5;28;01melif\u001b[39;00m key_is_scalar:\n\u001b[1;32m-> 1121\u001b[0m     \u001b[38;5;28;01mreturn\u001b[39;00m \u001b[38;5;28mself\u001b[39m\u001b[38;5;241m.\u001b[39m_get_value(key)\n\u001b[0;32m   1123\u001b[0m \u001b[38;5;66;03m# Convert generator to list before going through hashable part\u001b[39;00m\n\u001b[0;32m   1124\u001b[0m \u001b[38;5;66;03m# (We will iterate through the generator there to check for slices)\u001b[39;00m\n\u001b[0;32m   1125\u001b[0m \u001b[38;5;28;01mif\u001b[39;00m is_iterator(key):\n",
      "File \u001b[1;32m~\\anaconda3\\Lib\\site-packages\\pandas\\core\\series.py:1237\u001b[0m, in \u001b[0;36mSeries._get_value\u001b[1;34m(self, label, takeable)\u001b[0m\n\u001b[0;32m   1234\u001b[0m     \u001b[38;5;28;01mreturn\u001b[39;00m \u001b[38;5;28mself\u001b[39m\u001b[38;5;241m.\u001b[39m_values[label]\n\u001b[0;32m   1236\u001b[0m \u001b[38;5;66;03m# Similar to Index.get_value, but we do not fall back to positional\u001b[39;00m\n\u001b[1;32m-> 1237\u001b[0m loc \u001b[38;5;241m=\u001b[39m \u001b[38;5;28mself\u001b[39m\u001b[38;5;241m.\u001b[39mindex\u001b[38;5;241m.\u001b[39mget_loc(label)\n\u001b[0;32m   1239\u001b[0m \u001b[38;5;28;01mif\u001b[39;00m is_integer(loc):\n\u001b[0;32m   1240\u001b[0m     \u001b[38;5;28;01mreturn\u001b[39;00m \u001b[38;5;28mself\u001b[39m\u001b[38;5;241m.\u001b[39m_values[loc]\n",
      "File \u001b[1;32m~\\anaconda3\\Lib\\site-packages\\pandas\\core\\indexes\\range.py:417\u001b[0m, in \u001b[0;36mRangeIndex.get_loc\u001b[1;34m(self, key)\u001b[0m\n\u001b[0;32m    415\u001b[0m         \u001b[38;5;28;01mraise\u001b[39;00m \u001b[38;5;167;01mKeyError\u001b[39;00m(key) \u001b[38;5;28;01mfrom\u001b[39;00m\u001b[38;5;250m \u001b[39m\u001b[38;5;21;01merr\u001b[39;00m\n\u001b[0;32m    416\u001b[0m \u001b[38;5;28;01mif\u001b[39;00m \u001b[38;5;28misinstance\u001b[39m(key, Hashable):\n\u001b[1;32m--> 417\u001b[0m     \u001b[38;5;28;01mraise\u001b[39;00m \u001b[38;5;167;01mKeyError\u001b[39;00m(key)\n\u001b[0;32m    418\u001b[0m \u001b[38;5;28mself\u001b[39m\u001b[38;5;241m.\u001b[39m_check_indexing_error(key)\n\u001b[0;32m    419\u001b[0m \u001b[38;5;28;01mraise\u001b[39;00m \u001b[38;5;167;01mKeyError\u001b[39;00m(key)\n",
      "\u001b[1;31mKeyError\u001b[0m: 'Customer ID'"
     ]
    }
   ],
   "source": [
    "df[\"Customer ID\"] = df[\"Customer ID\"].replace('', \"Unknown\").fillna(\"Unknown\")\n",
    "df[\"Description\"] = df[\"Description\"].replace('', \"Unknown\").fillna(\"Unknown\")"
   ]
  },
  {
   "cell_type": "code",
   "execution_count": 8,
   "id": "14a370af",
   "metadata": {
    "execution": {
     "iopub.execute_input": "2025-08-28T06:28:12.382201Z",
     "iopub.status.busy": "2025-08-28T06:28:12.381788Z",
     "iopub.status.idle": "2025-08-28T06:28:12.436529Z",
     "shell.execute_reply": "2025-08-28T06:28:12.435614Z",
     "shell.execute_reply.started": "2025-08-28T06:28:12.382174Z"
    }
   },
   "outputs": [
    {
     "data": {
      "text/plain": [
       "np.int64(0)"
      ]
     },
     "execution_count": 8,
     "metadata": {},
     "output_type": "execute_result"
    }
   ],
   "source": [
    "df.isnull().sum()"
   ]
  },
  {
   "cell_type": "code",
   "execution_count": null,
   "id": "71593a6d",
   "metadata": {
    "execution": {
     "iopub.status.busy": "2025-08-28T05:55:14.022211Z",
     "iopub.status.idle": "2025-08-28T05:55:14.023404Z",
     "shell.execute_reply": "2025-08-28T05:55:14.023185Z",
     "shell.execute_reply.started": "2025-08-28T05:55:14.023162Z"
    }
   },
   "outputs": [],
   "source": [
    "df = df[df['Quantity'] > 0]                       \n",
    "df['TotalSales'] = df['Quantity'] * df['Price']   # Add total sales column\n",
    "df['InvoiceDate'] = pd.to_datetime(df['InvoiceDate'])"
   ]
  },
  {
   "cell_type": "code",
   "execution_count": null,
   "id": "8b037a10",
   "metadata": {
    "execution": {
     "iopub.status.busy": "2025-08-28T05:55:14.024848Z",
     "iopub.status.idle": "2025-08-28T05:55:14.026737Z",
     "shell.execute_reply": "2025-08-28T05:55:14.026116Z",
     "shell.execute_reply.started": "2025-08-28T05:55:14.026057Z"
    }
   },
   "outputs": [],
   "source": [
    "df.head()"
   ]
  },
  {
   "cell_type": "code",
   "execution_count": null,
   "id": "fdc0ced2",
   "metadata": {
    "execution": {
     "iopub.status.busy": "2025-08-28T05:55:14.030066Z",
     "iopub.status.idle": "2025-08-28T05:55:14.031530Z",
     "shell.execute_reply": "2025-08-28T05:55:14.030969Z",
     "shell.execute_reply.started": "2025-08-28T05:55:14.030920Z"
    }
   },
   "outputs": [],
   "source": [
    "df[\"Country\"].unique().tolist()"
   ]
  },
  {
   "cell_type": "code",
   "execution_count": null,
   "id": "a4122752",
   "metadata": {
    "execution": {
     "iopub.status.busy": "2025-08-28T05:55:14.034446Z",
     "iopub.status.idle": "2025-08-28T05:55:14.036204Z",
     "shell.execute_reply": "2025-08-28T05:55:14.035766Z",
     "shell.execute_reply.started": "2025-08-28T05:55:14.035721Z"
    }
   },
   "outputs": [],
   "source": [
    "#Spliting the Invoice date into date and time\n",
    "df[\"Invoice_Date\"] = df[\"InvoiceDate\"].dt.date\n",
    "df[\"InvoiceTime\"] = df[\"InvoiceDate\"].dt.time\n",
    "df.head()"
   ]
  },
  {
   "cell_type": "code",
   "execution_count": null,
   "id": "994bdded",
   "metadata": {
    "execution": {
     "iopub.status.busy": "2025-08-28T05:55:14.038723Z",
     "iopub.status.idle": "2025-08-28T05:55:14.039465Z",
     "shell.execute_reply": "2025-08-28T05:55:14.039180Z",
     "shell.execute_reply.started": "2025-08-28T05:55:14.039153Z"
    }
   },
   "outputs": [],
   "source": [
    "df = df.drop(columns=\"InvoiceDate\") #To drop Invoicedate after splicting it into date and time\n",
    "df.head(1)"
   ]
  },
  {
   "cell_type": "code",
   "execution_count": null,
   "id": "b426a35e",
   "metadata": {
    "execution": {
     "iopub.status.busy": "2025-08-28T05:55:14.041619Z",
     "iopub.status.idle": "2025-08-28T05:55:14.043009Z",
     "shell.execute_reply": "2025-08-28T05:55:14.042630Z",
     "shell.execute_reply.started": "2025-08-28T05:55:14.042593Z"
    }
   },
   "outputs": [],
   "source": [
    "# Monthly sales trend\n",
    "sales_trend = df.groupby(df['Invoice_Date'])['TotalSales'].sum()\n",
    "sales_trend.plot(kind='line', figsize=(8,4))\n",
    "plt.title(\"Monthly Sales Trend\")\n",
    "plt.show()\n"
   ]
  },
  {
   "cell_type": "code",
   "execution_count": null,
   "id": "b7c8e4df",
   "metadata": {
    "execution": {
     "iopub.status.busy": "2025-08-28T05:55:14.044934Z",
     "iopub.status.idle": "2025-08-28T05:55:14.045875Z",
     "shell.execute_reply": "2025-08-28T05:55:14.045453Z",
     "shell.execute_reply.started": "2025-08-28T05:55:14.045425Z"
    }
   },
   "outputs": [],
   "source": [
    "# Top products\n",
    "top_products = df.groupby('Description')['TotalSales'].sum().nlargest(10)\n",
    "top_products.plot(kind='barh', figsize = (8,12))\n",
    "plt.title(\"Top 10 Products by Revenue\")\n",
    "plt.show()"
   ]
  },
  {
   "cell_type": "code",
   "execution_count": null,
   "id": "bffe96b7",
   "metadata": {
    "execution": {
     "iopub.status.busy": "2025-08-28T05:55:14.047818Z",
     "iopub.status.idle": "2025-08-28T05:55:14.048856Z",
     "shell.execute_reply": "2025-08-28T05:55:14.048608Z",
     "shell.execute_reply.started": "2025-08-28T05:55:14.048573Z"
    }
   },
   "outputs": [],
   "source": [
    "df.shape"
   ]
  },
  {
   "cell_type": "code",
   "execution_count": null,
   "id": "67080746",
   "metadata": {
    "execution": {
     "iopub.status.busy": "2025-08-28T05:55:14.050284Z",
     "iopub.status.idle": "2025-08-28T05:55:14.050889Z",
     "shell.execute_reply": "2025-08-28T05:55:14.050683Z",
     "shell.execute_reply.started": "2025-08-28T05:55:14.050665Z"
    }
   },
   "outputs": [],
   "source": [
    "df = df.to_csv(\"mini.csv\", index = False)\n",
    "print(f\"✅ Complete\")"
   ]
  },
  {
   "cell_type": "code",
   "execution_count": null,
   "id": "193c7dea",
   "metadata": {},
   "outputs": [],
   "source": []
  }
 ],
 "metadata": {
  "kernelspec": {
   "display_name": "Python [conda env:base] *",
   "language": "python",
   "name": "conda-base-py"
  },
  "language_info": {
   "codemirror_mode": {
    "name": "ipython",
    "version": 3
   },
   "file_extension": ".py",
   "mimetype": "text/x-python",
   "name": "python",
   "nbconvert_exporter": "python",
   "pygments_lexer": "ipython3",
   "version": "3.13.5"
  }
 },
 "nbformat": 4,
 "nbformat_minor": 5
}
