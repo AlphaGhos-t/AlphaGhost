{
 "cells": [
  {
   "cell_type": "code",
   "execution_count": 1,
   "id": "86433180-fba3-4112-ab9e-fcf6d34a6773",
   "metadata": {
    "execution": {
     "iopub.execute_input": "2025-08-28T06:28:48.866481Z",
     "iopub.status.busy": "2025-08-28T06:28:48.865953Z",
     "iopub.status.idle": "2025-08-28T06:28:50.476306Z",
     "shell.execute_reply": "2025-08-28T06:28:50.474986Z",
     "shell.execute_reply.started": "2025-08-28T06:28:48.866446Z"
    }
   },
   "outputs": [],
   "source": [
    "import pandas as pd\n",
    "import matplotlib.pyplot as plt"
   ]
  },
  {
   "cell_type": "code",
   "execution_count": 2,
   "id": "10e9fa9d",
   "metadata": {
    "execution": {
     "iopub.execute_input": "2025-08-28T06:28:50.480487Z",
     "iopub.status.busy": "2025-08-28T06:28:50.478057Z",
     "iopub.status.idle": "2025-08-28T06:28:52.137167Z",
     "shell.execute_reply": "2025-08-28T06:28:52.135895Z",
     "shell.execute_reply.started": "2025-08-28T06:28:50.480393Z"
    }
   },
   "outputs": [
    {
     "data": {
      "text/html": [
       "<div>\n",
       "<style scoped>\n",
       "    .dataframe tbody tr th:only-of-type {\n",
       "        vertical-align: middle;\n",
       "    }\n",
       "\n",
       "    .dataframe tbody tr th {\n",
       "        vertical-align: top;\n",
       "    }\n",
       "\n",
       "    .dataframe thead th {\n",
       "        text-align: right;\n",
       "    }\n",
       "</style>\n",
       "<table border=\"1\" class=\"dataframe\">\n",
       "  <thead>\n",
       "    <tr style=\"text-align: right;\">\n",
       "      <th></th>\n",
       "      <th>Invoice</th>\n",
       "      <th>StockCode</th>\n",
       "      <th>Description</th>\n",
       "      <th>Quantity</th>\n",
       "      <th>InvoiceDate</th>\n",
       "      <th>Price</th>\n",
       "      <th>Customer ID</th>\n",
       "      <th>Country</th>\n",
       "    </tr>\n",
       "  </thead>\n",
       "  <tbody>\n",
       "    <tr>\n",
       "      <th>0</th>\n",
       "      <td>489434</td>\n",
       "      <td>85048</td>\n",
       "      <td>15CM CHRISTMAS GLASS BALL 20 LIGHTS</td>\n",
       "      <td>12</td>\n",
       "      <td>2009-12-01 07:45:00</td>\n",
       "      <td>6.95</td>\n",
       "      <td>13085.0</td>\n",
       "      <td>United Kingdom</td>\n",
       "    </tr>\n",
       "    <tr>\n",
       "      <th>1</th>\n",
       "      <td>489434</td>\n",
       "      <td>79323P</td>\n",
       "      <td>PINK CHERRY LIGHTS</td>\n",
       "      <td>12</td>\n",
       "      <td>2009-12-01 07:45:00</td>\n",
       "      <td>6.75</td>\n",
       "      <td>13085.0</td>\n",
       "      <td>United Kingdom</td>\n",
       "    </tr>\n",
       "    <tr>\n",
       "      <th>2</th>\n",
       "      <td>489434</td>\n",
       "      <td>79323W</td>\n",
       "      <td>WHITE CHERRY LIGHTS</td>\n",
       "      <td>12</td>\n",
       "      <td>2009-12-01 07:45:00</td>\n",
       "      <td>6.75</td>\n",
       "      <td>13085.0</td>\n",
       "      <td>United Kingdom</td>\n",
       "    </tr>\n",
       "    <tr>\n",
       "      <th>3</th>\n",
       "      <td>489434</td>\n",
       "      <td>22041</td>\n",
       "      <td>RECORD FRAME 7\" SINGLE SIZE</td>\n",
       "      <td>48</td>\n",
       "      <td>2009-12-01 07:45:00</td>\n",
       "      <td>2.10</td>\n",
       "      <td>13085.0</td>\n",
       "      <td>United Kingdom</td>\n",
       "    </tr>\n",
       "    <tr>\n",
       "      <th>4</th>\n",
       "      <td>489434</td>\n",
       "      <td>21232</td>\n",
       "      <td>STRAWBERRY CERAMIC TRINKET BOX</td>\n",
       "      <td>24</td>\n",
       "      <td>2009-12-01 07:45:00</td>\n",
       "      <td>1.25</td>\n",
       "      <td>13085.0</td>\n",
       "      <td>United Kingdom</td>\n",
       "    </tr>\n",
       "  </tbody>\n",
       "</table>\n",
       "</div>"
      ],
      "text/plain": [
       "  Invoice StockCode                          Description  Quantity  \\\n",
       "0  489434     85048  15CM CHRISTMAS GLASS BALL 20 LIGHTS        12   \n",
       "1  489434    79323P                   PINK CHERRY LIGHTS        12   \n",
       "2  489434    79323W                  WHITE CHERRY LIGHTS        12   \n",
       "3  489434     22041         RECORD FRAME 7\" SINGLE SIZE         48   \n",
       "4  489434     21232       STRAWBERRY CERAMIC TRINKET BOX        24   \n",
       "\n",
       "           InvoiceDate  Price  Customer ID         Country  \n",
       "0  2009-12-01 07:45:00   6.95      13085.0  United Kingdom  \n",
       "1  2009-12-01 07:45:00   6.75      13085.0  United Kingdom  \n",
       "2  2009-12-01 07:45:00   6.75      13085.0  United Kingdom  \n",
       "3  2009-12-01 07:45:00   2.10      13085.0  United Kingdom  \n",
       "4  2009-12-01 07:45:00   1.25      13085.0  United Kingdom  "
      ]
     },
     "execution_count": 2,
     "metadata": {},
     "output_type": "execute_result"
    }
   ],
   "source": [
    "df = pd.read_csv(\"online_retail_II.csv\")\n",
    "df.head()"
   ]
  },
  {
   "cell_type": "code",
   "execution_count": 3,
   "id": "3b5fb470",
   "metadata": {
    "execution": {
     "iopub.execute_input": "2025-08-28T06:28:52.142318Z",
     "iopub.status.busy": "2025-08-28T06:28:52.141798Z",
     "iopub.status.idle": "2025-08-28T06:28:52.150697Z",
     "shell.execute_reply": "2025-08-28T06:28:52.149334Z",
     "shell.execute_reply.started": "2025-08-28T06:28:52.142286Z"
    }
   },
   "outputs": [
    {
     "data": {
      "text/plain": [
       "(1067371, 8)"
      ]
     },
     "execution_count": 3,
     "metadata": {},
     "output_type": "execute_result"
    }
   ],
   "source": [
    "df.shape"
   ]
  },
  {
   "cell_type": "code",
   "execution_count": 4,
   "id": "2bc5473a",
   "metadata": {
    "execution": {
     "iopub.execute_input": "2025-08-28T06:28:52.154441Z",
     "iopub.status.busy": "2025-08-28T06:28:52.153357Z",
     "iopub.status.idle": "2025-08-28T06:28:52.370941Z",
     "shell.execute_reply": "2025-08-28T06:28:52.369108Z",
     "shell.execute_reply.started": "2025-08-28T06:28:52.154393Z"
    }
   },
   "outputs": [
    {
     "data": {
      "text/plain": [
       "Invoice             0\n",
       "StockCode           0\n",
       "Description      4382\n",
       "Quantity            0\n",
       "InvoiceDate         0\n",
       "Price               0\n",
       "Customer ID    243007\n",
       "Country             0\n",
       "dtype: int64"
      ]
     },
     "execution_count": 4,
     "metadata": {},
     "output_type": "execute_result"
    }
   ],
   "source": [
    "#To check missing values\n",
    "df.isnull().sum()"
   ]
  },
  {
   "cell_type": "code",
   "execution_count": 5,
   "id": "0f4d2fe7",
   "metadata": {
    "execution": {
     "iopub.execute_input": "2025-08-28T06:28:52.374002Z",
     "iopub.status.busy": "2025-08-28T06:28:52.373003Z",
     "iopub.status.idle": "2025-08-28T06:28:52.652575Z",
     "shell.execute_reply": "2025-08-28T06:28:52.651555Z",
     "shell.execute_reply.started": "2025-08-28T06:28:52.373941Z"
    }
   },
   "outputs": [],
   "source": [
    "df[\"Customer ID\"] = df[\"Customer ID\"].replace('', \"Unknown\").fillna(\"Unknown\")\n",
    "df[\"Description\"] = df[\"Description\"].replace('', \"Unknown\").fillna(\"Unknown\")"
   ]
  },
  {
   "cell_type": "code",
   "execution_count": 6,
   "id": "14a370af",
   "metadata": {
    "execution": {
     "iopub.execute_input": "2025-08-28T06:28:52.653805Z",
     "iopub.status.busy": "2025-08-28T06:28:52.653414Z",
     "iopub.status.idle": "2025-08-28T06:28:52.902601Z",
     "shell.execute_reply": "2025-08-28T06:28:52.899792Z",
     "shell.execute_reply.started": "2025-08-28T06:28:52.653774Z"
    }
   },
   "outputs": [
    {
     "data": {
      "text/plain": [
       "Invoice        0\n",
       "StockCode      0\n",
       "Description    0\n",
       "Quantity       0\n",
       "InvoiceDate    0\n",
       "Price          0\n",
       "Customer ID    0\n",
       "Country        0\n",
       "dtype: int64"
      ]
     },
     "execution_count": 6,
     "metadata": {},
     "output_type": "execute_result"
    }
   ],
   "source": [
    "df.isnull().sum()"
   ]
  },
  {
   "cell_type": "code",
   "execution_count": 7,
   "id": "71593a6d",
   "metadata": {
    "execution": {
     "iopub.execute_input": "2025-08-28T06:28:52.905057Z",
     "iopub.status.busy": "2025-08-28T06:28:52.904358Z",
     "iopub.status.idle": "2025-08-28T06:28:53.364192Z",
     "shell.execute_reply": "2025-08-28T06:28:53.362708Z",
     "shell.execute_reply.started": "2025-08-28T06:28:52.905007Z"
    }
   },
   "outputs": [],
   "source": [
    "df = df[df['Quantity'] > 0]                       \n",
    "df['TotalSales'] = df['Quantity'] * df['Price']   # Add total sales column\n",
    "df['InvoiceDate'] = pd.to_datetime(df['InvoiceDate'])"
   ]
  },
  {
   "cell_type": "code",
   "execution_count": 8,
   "id": "8b037a10",
   "metadata": {
    "execution": {
     "iopub.execute_input": "2025-08-28T06:28:53.366543Z",
     "iopub.status.busy": "2025-08-28T06:28:53.366016Z",
     "iopub.status.idle": "2025-08-28T06:28:53.392822Z",
     "shell.execute_reply": "2025-08-28T06:28:53.391785Z",
     "shell.execute_reply.started": "2025-08-28T06:28:53.366515Z"
    }
   },
   "outputs": [
    {
     "data": {
      "text/html": [
       "<div>\n",
       "<style scoped>\n",
       "    .dataframe tbody tr th:only-of-type {\n",
       "        vertical-align: middle;\n",
       "    }\n",
       "\n",
       "    .dataframe tbody tr th {\n",
       "        vertical-align: top;\n",
       "    }\n",
       "\n",
       "    .dataframe thead th {\n",
       "        text-align: right;\n",
       "    }\n",
       "</style>\n",
       "<table border=\"1\" class=\"dataframe\">\n",
       "  <thead>\n",
       "    <tr style=\"text-align: right;\">\n",
       "      <th></th>\n",
       "      <th>Invoice</th>\n",
       "      <th>StockCode</th>\n",
       "      <th>Description</th>\n",
       "      <th>Quantity</th>\n",
       "      <th>InvoiceDate</th>\n",
       "      <th>Price</th>\n",
       "      <th>Customer ID</th>\n",
       "      <th>Country</th>\n",
       "      <th>TotalSales</th>\n",
       "    </tr>\n",
       "  </thead>\n",
       "  <tbody>\n",
       "    <tr>\n",
       "      <th>0</th>\n",
       "      <td>489434</td>\n",
       "      <td>85048</td>\n",
       "      <td>15CM CHRISTMAS GLASS BALL 20 LIGHTS</td>\n",
       "      <td>12</td>\n",
       "      <td>2009-12-01 07:45:00</td>\n",
       "      <td>6.95</td>\n",
       "      <td>13085.0</td>\n",
       "      <td>United Kingdom</td>\n",
       "      <td>83.4</td>\n",
       "    </tr>\n",
       "    <tr>\n",
       "      <th>1</th>\n",
       "      <td>489434</td>\n",
       "      <td>79323P</td>\n",
       "      <td>PINK CHERRY LIGHTS</td>\n",
       "      <td>12</td>\n",
       "      <td>2009-12-01 07:45:00</td>\n",
       "      <td>6.75</td>\n",
       "      <td>13085.0</td>\n",
       "      <td>United Kingdom</td>\n",
       "      <td>81.0</td>\n",
       "    </tr>\n",
       "    <tr>\n",
       "      <th>2</th>\n",
       "      <td>489434</td>\n",
       "      <td>79323W</td>\n",
       "      <td>WHITE CHERRY LIGHTS</td>\n",
       "      <td>12</td>\n",
       "      <td>2009-12-01 07:45:00</td>\n",
       "      <td>6.75</td>\n",
       "      <td>13085.0</td>\n",
       "      <td>United Kingdom</td>\n",
       "      <td>81.0</td>\n",
       "    </tr>\n",
       "    <tr>\n",
       "      <th>3</th>\n",
       "      <td>489434</td>\n",
       "      <td>22041</td>\n",
       "      <td>RECORD FRAME 7\" SINGLE SIZE</td>\n",
       "      <td>48</td>\n",
       "      <td>2009-12-01 07:45:00</td>\n",
       "      <td>2.10</td>\n",
       "      <td>13085.0</td>\n",
       "      <td>United Kingdom</td>\n",
       "      <td>100.8</td>\n",
       "    </tr>\n",
       "    <tr>\n",
       "      <th>4</th>\n",
       "      <td>489434</td>\n",
       "      <td>21232</td>\n",
       "      <td>STRAWBERRY CERAMIC TRINKET BOX</td>\n",
       "      <td>24</td>\n",
       "      <td>2009-12-01 07:45:00</td>\n",
       "      <td>1.25</td>\n",
       "      <td>13085.0</td>\n",
       "      <td>United Kingdom</td>\n",
       "      <td>30.0</td>\n",
       "    </tr>\n",
       "  </tbody>\n",
       "</table>\n",
       "</div>"
      ],
      "text/plain": [
       "  Invoice StockCode                          Description  Quantity  \\\n",
       "0  489434     85048  15CM CHRISTMAS GLASS BALL 20 LIGHTS        12   \n",
       "1  489434    79323P                   PINK CHERRY LIGHTS        12   \n",
       "2  489434    79323W                  WHITE CHERRY LIGHTS        12   \n",
       "3  489434     22041         RECORD FRAME 7\" SINGLE SIZE         48   \n",
       "4  489434     21232       STRAWBERRY CERAMIC TRINKET BOX        24   \n",
       "\n",
       "          InvoiceDate  Price Customer ID         Country  TotalSales  \n",
       "0 2009-12-01 07:45:00   6.95     13085.0  United Kingdom        83.4  \n",
       "1 2009-12-01 07:45:00   6.75     13085.0  United Kingdom        81.0  \n",
       "2 2009-12-01 07:45:00   6.75     13085.0  United Kingdom        81.0  \n",
       "3 2009-12-01 07:45:00   2.10     13085.0  United Kingdom       100.8  \n",
       "4 2009-12-01 07:45:00   1.25     13085.0  United Kingdom        30.0  "
      ]
     },
     "execution_count": 8,
     "metadata": {},
     "output_type": "execute_result"
    }
   ],
   "source": [
    "df.head()"
   ]
  },
  {
   "cell_type": "code",
   "execution_count": 9,
   "id": "fdc0ced2",
   "metadata": {
    "execution": {
     "iopub.execute_input": "2025-08-28T06:28:53.395227Z",
     "iopub.status.busy": "2025-08-28T06:28:53.394487Z",
     "iopub.status.idle": "2025-08-28T06:28:53.507506Z",
     "shell.execute_reply": "2025-08-28T06:28:53.506575Z",
     "shell.execute_reply.started": "2025-08-28T06:28:53.395195Z"
    }
   },
   "outputs": [
    {
     "data": {
      "text/plain": [
       "['United Kingdom',\n",
       " 'France',\n",
       " 'USA',\n",
       " 'Belgium',\n",
       " 'Australia',\n",
       " 'EIRE',\n",
       " 'Germany',\n",
       " 'Portugal',\n",
       " 'Denmark',\n",
       " 'Netherlands',\n",
       " 'Poland',\n",
       " 'Channel Islands',\n",
       " 'Spain',\n",
       " 'Cyprus',\n",
       " 'Greece',\n",
       " 'Norway',\n",
       " 'Austria',\n",
       " 'Sweden',\n",
       " 'United Arab Emirates',\n",
       " 'Finland',\n",
       " 'Italy',\n",
       " 'Switzerland',\n",
       " 'Japan',\n",
       " 'Unspecified',\n",
       " 'Nigeria',\n",
       " 'Malta',\n",
       " 'Bahrain',\n",
       " 'RSA',\n",
       " 'Bermuda',\n",
       " 'Hong Kong',\n",
       " 'Singapore',\n",
       " 'Thailand',\n",
       " 'Israel',\n",
       " 'Lithuania',\n",
       " 'West Indies',\n",
       " 'Lebanon',\n",
       " 'Korea',\n",
       " 'Brazil',\n",
       " 'Canada',\n",
       " 'Iceland',\n",
       " 'Saudi Arabia',\n",
       " 'Czech Republic',\n",
       " 'European Community']"
      ]
     },
     "execution_count": 9,
     "metadata": {},
     "output_type": "execute_result"
    }
   ],
   "source": [
    "df[\"Country\"].unique().tolist()"
   ]
  },
  {
   "cell_type": "code",
   "execution_count": 10,
   "id": "a4122752",
   "metadata": {
    "execution": {
     "iopub.execute_input": "2025-08-28T06:28:53.510313Z",
     "iopub.status.busy": "2025-08-28T06:28:53.509020Z",
     "iopub.status.idle": "2025-08-28T06:28:54.639534Z",
     "shell.execute_reply": "2025-08-28T06:28:54.638122Z",
     "shell.execute_reply.started": "2025-08-28T06:28:53.510220Z"
    }
   },
   "outputs": [
    {
     "data": {
      "text/html": [
       "<div>\n",
       "<style scoped>\n",
       "    .dataframe tbody tr th:only-of-type {\n",
       "        vertical-align: middle;\n",
       "    }\n",
       "\n",
       "    .dataframe tbody tr th {\n",
       "        vertical-align: top;\n",
       "    }\n",
       "\n",
       "    .dataframe thead th {\n",
       "        text-align: right;\n",
       "    }\n",
       "</style>\n",
       "<table border=\"1\" class=\"dataframe\">\n",
       "  <thead>\n",
       "    <tr style=\"text-align: right;\">\n",
       "      <th></th>\n",
       "      <th>Invoice</th>\n",
       "      <th>StockCode</th>\n",
       "      <th>Description</th>\n",
       "      <th>Quantity</th>\n",
       "      <th>InvoiceDate</th>\n",
       "      <th>Price</th>\n",
       "      <th>Customer ID</th>\n",
       "      <th>Country</th>\n",
       "      <th>TotalSales</th>\n",
       "      <th>Invoice_Date</th>\n",
       "      <th>InvoiceTime</th>\n",
       "    </tr>\n",
       "  </thead>\n",
       "  <tbody>\n",
       "    <tr>\n",
       "      <th>0</th>\n",
       "      <td>489434</td>\n",
       "      <td>85048</td>\n",
       "      <td>15CM CHRISTMAS GLASS BALL 20 LIGHTS</td>\n",
       "      <td>12</td>\n",
       "      <td>2009-12-01 07:45:00</td>\n",
       "      <td>6.95</td>\n",
       "      <td>13085.0</td>\n",
       "      <td>United Kingdom</td>\n",
       "      <td>83.4</td>\n",
       "      <td>2009-12-01</td>\n",
       "      <td>07:45:00</td>\n",
       "    </tr>\n",
       "    <tr>\n",
       "      <th>1</th>\n",
       "      <td>489434</td>\n",
       "      <td>79323P</td>\n",
       "      <td>PINK CHERRY LIGHTS</td>\n",
       "      <td>12</td>\n",
       "      <td>2009-12-01 07:45:00</td>\n",
       "      <td>6.75</td>\n",
       "      <td>13085.0</td>\n",
       "      <td>United Kingdom</td>\n",
       "      <td>81.0</td>\n",
       "      <td>2009-12-01</td>\n",
       "      <td>07:45:00</td>\n",
       "    </tr>\n",
       "    <tr>\n",
       "      <th>2</th>\n",
       "      <td>489434</td>\n",
       "      <td>79323W</td>\n",
       "      <td>WHITE CHERRY LIGHTS</td>\n",
       "      <td>12</td>\n",
       "      <td>2009-12-01 07:45:00</td>\n",
       "      <td>6.75</td>\n",
       "      <td>13085.0</td>\n",
       "      <td>United Kingdom</td>\n",
       "      <td>81.0</td>\n",
       "      <td>2009-12-01</td>\n",
       "      <td>07:45:00</td>\n",
       "    </tr>\n",
       "    <tr>\n",
       "      <th>3</th>\n",
       "      <td>489434</td>\n",
       "      <td>22041</td>\n",
       "      <td>RECORD FRAME 7\" SINGLE SIZE</td>\n",
       "      <td>48</td>\n",
       "      <td>2009-12-01 07:45:00</td>\n",
       "      <td>2.10</td>\n",
       "      <td>13085.0</td>\n",
       "      <td>United Kingdom</td>\n",
       "      <td>100.8</td>\n",
       "      <td>2009-12-01</td>\n",
       "      <td>07:45:00</td>\n",
       "    </tr>\n",
       "    <tr>\n",
       "      <th>4</th>\n",
       "      <td>489434</td>\n",
       "      <td>21232</td>\n",
       "      <td>STRAWBERRY CERAMIC TRINKET BOX</td>\n",
       "      <td>24</td>\n",
       "      <td>2009-12-01 07:45:00</td>\n",
       "      <td>1.25</td>\n",
       "      <td>13085.0</td>\n",
       "      <td>United Kingdom</td>\n",
       "      <td>30.0</td>\n",
       "      <td>2009-12-01</td>\n",
       "      <td>07:45:00</td>\n",
       "    </tr>\n",
       "  </tbody>\n",
       "</table>\n",
       "</div>"
      ],
      "text/plain": [
       "  Invoice StockCode                          Description  Quantity  \\\n",
       "0  489434     85048  15CM CHRISTMAS GLASS BALL 20 LIGHTS        12   \n",
       "1  489434    79323P                   PINK CHERRY LIGHTS        12   \n",
       "2  489434    79323W                  WHITE CHERRY LIGHTS        12   \n",
       "3  489434     22041         RECORD FRAME 7\" SINGLE SIZE         48   \n",
       "4  489434     21232       STRAWBERRY CERAMIC TRINKET BOX        24   \n",
       "\n",
       "          InvoiceDate  Price Customer ID         Country  TotalSales  \\\n",
       "0 2009-12-01 07:45:00   6.95     13085.0  United Kingdom        83.4   \n",
       "1 2009-12-01 07:45:00   6.75     13085.0  United Kingdom        81.0   \n",
       "2 2009-12-01 07:45:00   6.75     13085.0  United Kingdom        81.0   \n",
       "3 2009-12-01 07:45:00   2.10     13085.0  United Kingdom       100.8   \n",
       "4 2009-12-01 07:45:00   1.25     13085.0  United Kingdom        30.0   \n",
       "\n",
       "  Invoice_Date InvoiceTime  \n",
       "0   2009-12-01    07:45:00  \n",
       "1   2009-12-01    07:45:00  \n",
       "2   2009-12-01    07:45:00  \n",
       "3   2009-12-01    07:45:00  \n",
       "4   2009-12-01    07:45:00  "
      ]
     },
     "execution_count": 10,
     "metadata": {},
     "output_type": "execute_result"
    }
   ],
   "source": [
    "#Spliting the Invoice date into date and time\n",
    "df[\"Invoice_Date\"] = df[\"InvoiceDate\"].dt.date\n",
    "df[\"InvoiceTime\"] = df[\"InvoiceDate\"].dt.time\n",
    "df.head()"
   ]
  },
  {
   "cell_type": "code",
   "execution_count": 11,
   "id": "994bdded",
   "metadata": {
    "execution": {
     "iopub.execute_input": "2025-08-28T06:28:54.641704Z",
     "iopub.status.busy": "2025-08-28T06:28:54.640885Z",
     "iopub.status.idle": "2025-08-28T06:28:54.782138Z",
     "shell.execute_reply": "2025-08-28T06:28:54.780603Z",
     "shell.execute_reply.started": "2025-08-28T06:28:54.641669Z"
    }
   },
   "outputs": [
    {
     "data": {
      "text/html": [
       "<div>\n",
       "<style scoped>\n",
       "    .dataframe tbody tr th:only-of-type {\n",
       "        vertical-align: middle;\n",
       "    }\n",
       "\n",
       "    .dataframe tbody tr th {\n",
       "        vertical-align: top;\n",
       "    }\n",
       "\n",
       "    .dataframe thead th {\n",
       "        text-align: right;\n",
       "    }\n",
       "</style>\n",
       "<table border=\"1\" class=\"dataframe\">\n",
       "  <thead>\n",
       "    <tr style=\"text-align: right;\">\n",
       "      <th></th>\n",
       "      <th>Invoice</th>\n",
       "      <th>StockCode</th>\n",
       "      <th>Description</th>\n",
       "      <th>Quantity</th>\n",
       "      <th>Price</th>\n",
       "      <th>Customer ID</th>\n",
       "      <th>Country</th>\n",
       "      <th>TotalSales</th>\n",
       "      <th>Invoice_Date</th>\n",
       "      <th>InvoiceTime</th>\n",
       "    </tr>\n",
       "  </thead>\n",
       "  <tbody>\n",
       "    <tr>\n",
       "      <th>0</th>\n",
       "      <td>489434</td>\n",
       "      <td>85048</td>\n",
       "      <td>15CM CHRISTMAS GLASS BALL 20 LIGHTS</td>\n",
       "      <td>12</td>\n",
       "      <td>6.95</td>\n",
       "      <td>13085.0</td>\n",
       "      <td>United Kingdom</td>\n",
       "      <td>83.4</td>\n",
       "      <td>2009-12-01</td>\n",
       "      <td>07:45:00</td>\n",
       "    </tr>\n",
       "  </tbody>\n",
       "</table>\n",
       "</div>"
      ],
      "text/plain": [
       "  Invoice StockCode                          Description  Quantity  Price  \\\n",
       "0  489434     85048  15CM CHRISTMAS GLASS BALL 20 LIGHTS        12   6.95   \n",
       "\n",
       "  Customer ID         Country  TotalSales Invoice_Date InvoiceTime  \n",
       "0     13085.0  United Kingdom        83.4   2009-12-01    07:45:00  "
      ]
     },
     "execution_count": 11,
     "metadata": {},
     "output_type": "execute_result"
    }
   ],
   "source": [
    "df = df.drop(columns=\"InvoiceDate\") #To drop Invoicedate after splicting it into date and time\n",
    "df.head(1)"
   ]
  },
  {
   "cell_type": "code",
   "execution_count": 12,
   "id": "b426a35e",
   "metadata": {
    "execution": {
     "iopub.execute_input": "2025-08-28T06:28:54.784076Z",
     "iopub.status.busy": "2025-08-28T06:28:54.783336Z",
     "iopub.status.idle": "2025-08-28T06:28:55.303296Z",
     "shell.execute_reply": "2025-08-28T06:28:55.301714Z",
     "shell.execute_reply.started": "2025-08-28T06:28:54.784001Z"
    }
   },
   "outputs": [
    {
     "data": {
      "image/png": "[encoded data removed]",
      "text/plain": [
       "<Figure size 800x400 with 1 Axes>"
      ]
     },
     "metadata": {},
     "output_type": "display_data"
    }
   ],
   "source": [
    "# Monthly sales trend\n",
    "sales_trend = df.groupby(df['Invoice_Date'])['TotalSales'].sum()\n",
    "sales_trend.plot(kind='line', figsize=(8,4))\n",
    "plt.title(\"Monthly Sales Trend\")\n",
    "plt.show()\n"
   ]
  },
  {
   "cell_type": "code",
   "execution_count": 13,
   "id": "b7c8e4df",
   "metadata": {
    "execution": {
     "iopub.execute_input": "2025-08-28T06:28:55.306324Z",
     "iopub.status.busy": "2025-08-28T06:28:55.305647Z",
     "iopub.status.idle": "2025-08-28T06:28:55.866371Z",
     "shell.execute_reply": "2025-08-28T06:28:55.864819Z",
     "shell.execute_reply.started": "2025-08-28T06:28:55.306266Z"
    }
   },
   "outputs": [
    {
     "data": {
      "image/png": "[encoded data removed]",
      "text/plain": [
       "<Figure size 800x1200 with 1 Axes>"
      ]
     },
     "metadata": {},
     "output_type": "display_data"
    }
   ],
   "source": [
    "# Top products\n",
    "top_products = df.groupby('Description')['TotalSales'].sum().nlargest(10)\n",
    "top_products.plot(kind='barh', figsize = (8,12))\n",
    "plt.title(\"Top 10 Products by Revenue\")\n",
    "plt.show()"
   ]
  },
  {
   "cell_type": "code",
   "execution_count": 14,
   "id": "bffe96b7",
   "metadata": {
    "execution": {
     "iopub.execute_input": "2025-08-28T06:28:55.868574Z",
     "iopub.status.busy": "2025-08-28T06:28:55.868128Z",
     "iopub.status.idle": "2025-08-28T06:28:55.879210Z",
     "shell.execute_reply": "2025-08-28T06:28:55.876894Z",
     "shell.execute_reply.started": "2025-08-28T06:28:55.868539Z"
    }
   },
   "outputs": [
    {
     "data": {
      "text/plain": [
       "(1044421, 10)"
      ]
     },
     "execution_count": 14,
     "metadata": {},
     "output_type": "execute_result"
    }
   ],
   "source": [
    "df.shape"
   ]
  },
  {
   "cell_type": "code",
   "execution_count": 15,
   "id": "67080746",
   "metadata": {
    "execution": {
     "iopub.execute_input": "2025-08-28T06:28:55.882389Z",
     "iopub.status.busy": "2025-08-28T06:28:55.881122Z",
     "iopub.status.idle": "2025-08-28T06:29:06.011198Z",
     "shell.execute_reply": "2025-08-28T06:29:06.009856Z",
     "shell.execute_reply.started": "2025-08-28T06:28:55.882335Z"
    }
   },
   "outputs": [
    {
     "name": "stdout",
     "output_type": "stream",
     "text": [
      "✅ Complete\n"
     ]
    }
   ],
   "source": [
    "df = df.to_csv(\"mini.csv\", index = False)\n",
    "print(f\"✅ Complete\")"
   ]
  },
  {
   "cell_type": "code",
   "execution_count": null,
   "id": "193c7dea",
   "metadata": {},
   "outputs": [],
   "source": []
  }
 ],
 "metadata": {
  "kernelspec": {
   "display_name": "Python [conda env:base] *",
   "language": "python",
   "name": "conda-base-py"
  },
  "language_info": {
   "codemirror_mode": {
    "name": "ipython",
    "version": 3
   },
   "file_extension": ".py",
   "mimetype": "text/x-python",
   "name": "python",
   "nbconvert_exporter": "python",
   "pygments_lexer": "ipython3",
   "version": "3.13.5"
  }
 },
 "nbformat": 4,
 "nbformat_minor": 5
}
